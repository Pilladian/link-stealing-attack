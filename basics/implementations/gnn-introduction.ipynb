{
 "cells": [
  {
   "cell_type": "markdown",
   "id": "south-pizza",
   "metadata": {},
   "source": [
    "# Basic Graph Neural Networks with Python"
   ]
  },
  {
   "cell_type": "markdown",
   "id": "hungry-vacuum",
   "metadata": {},
   "source": [
    "> Philipp Zimmermann"
   ]
  },
  {
   "cell_type": "markdown",
   "id": "flexible-adapter",
   "metadata": {},
   "source": [
    "### Imports"
   ]
  },
  {
   "cell_type": "code",
   "execution_count": 1,
   "id": "naughty-poker",
   "metadata": {},
   "outputs": [],
   "source": [
    "# Logic\n",
    "import torch\n",
    "from torch_geometric.data import Data\n",
    "\n",
    "# Visualization\n",
    "from IPython.display import clear_output\n",
    "import ipywidgets as widgets"
   ]
  },
  {
   "cell_type": "markdown",
   "id": "fresh-fruit",
   "metadata": {},
   "source": [
    "### Versions"
   ]
  },
  {
   "cell_type": "code",
   "execution_count": 2,
   "id": "innocent-appreciation",
   "metadata": {
    "scrolled": true
   },
   "outputs": [
    {
     "name": "stdout",
     "output_type": "stream",
     "text": [
      "PyTorch: 1.8.0+cu111\n",
      "Cuda:    11.1\n"
     ]
    }
   ],
   "source": [
    "# PyTorch\n",
    "TORCH = torch.__version__\n",
    "print(f'PyTorch: {TORCH}')\n",
    "\n",
    "# Cuda\n",
    "CUDA = torch.version.cuda\n",
    "print(f'Cuda:    {CUDA}')"
   ]
  },
  {
   "cell_type": "markdown",
   "id": "typical-color",
   "metadata": {},
   "source": [
    "### Graph Object"
   ]
  },
  {
   "cell_type": "code",
   "execution_count": 3,
   "id": "sunrise-cross",
   "metadata": {},
   "outputs": [],
   "source": [
    "# 3 nodes\n",
    "# each with one feature: -1, 0 and 1\n",
    "nodes = torch.tensor([[-1], [0], [1]], dtype=torch.float)\n",
    "\n",
    "# 4 edges \n",
    "# \n",
    "# edge_index represents their source and target node\n",
    "# undirected graph, since both edges go in both directions\n",
    "# unweighted because edges do not have values\n",
    "edge_index = torch.tensor([[0, 1], \n",
    "                           [1, 2], \n",
    "                           [1, 0], \n",
    "                           [2, 1]], dtype=torch.long)\n",
    "\n",
    "# Graph\n",
    "graph = Data(x=nodes, edge_index=edge_index.t().contiguous())"
   ]
  },
  {
   "cell_type": "markdown",
   "id": "automotive-sleep",
   "metadata": {},
   "source": [
    "#### Information of Graph"
   ]
  },
  {
   "cell_type": "code",
   "execution_count": 4,
   "id": "resident-charleston",
   "metadata": {},
   "outputs": [
    {
     "name": "stdout",
     "output_type": "stream",
     "text": [
      "  Description\t\tCommand\t\t\t\t\tOutput\n",
      "\n",
      "---------------------------------------------------------------------------------------------------\n",
      "  Graph Object        \tgraph                             \tData(edge_index=[2, 4], x=[3, 1])\n",
      "  Amount of nodes     \tgraph.num_nodes                   \t3\n",
      "  Amount of edges     \tgraph.num_edges                   \t4\n",
      "  Amount of features  \tgraph.num_node_features           \t1\n",
      "  Isolated nodes      \tgraph.contains_isolated_nodes()   \tFalse\n",
      "  Self loops          \tgraph.contains_self_loops()       \tFalse\n",
      "  Directed            \tgraph.is_directed()               \tFalse\n"
     ]
    }
   ],
   "source": [
    "# commands\n",
    "cmds = [\n",
    "    ['Graph Object',       'graph',                           graph],\n",
    "    ['Amount of nodes',    'graph.num_nodes',                 graph.num_nodes],\n",
    "    ['Amount of edges',    'graph.num_edges',                 graph.num_edges],\n",
    "    ['Amount of features', 'graph.num_node_features',         graph.num_node_features],\n",
    "    ['Isolated nodes',     'graph.contains_isolated_nodes()', graph.contains_isolated_nodes()],\n",
    "    ['Self loops',         'graph.contains_self_loops()',     graph.contains_self_loops()],\n",
    "    ['Directed',           'graph.is_directed()',             graph.is_directed()]\n",
    "]\n",
    "\n",
    "print('  Description\\t\\tCommand\\t\\t\\t\\t\\tOutput\\n')\n",
    "print('-' * 99)\n",
    "for description, cmd, output in cmds:\n",
    "    print(f'  {description}{\" \" * (20 - len(description))}\\t{cmd}{\" \" * (34 - len(cmd))}\\t{output}')"
   ]
  },
  {
   "cell_type": "markdown",
   "id": "listed-richardson",
   "metadata": {},
   "source": [
    "#### Use Cuda"
   ]
  },
  {
   "cell_type": "code",
   "execution_count": 5,
   "id": "specialized-arena",
   "metadata": {},
   "outputs": [],
   "source": [
    "# transfer data object to GPU\n",
    "device = torch.device('cuda')\n",
    "graph = graph.to(device)"
   ]
  },
  {
   "cell_type": "markdown",
   "id": "seven-fighter",
   "metadata": {},
   "source": [
    "### Data Handling"
   ]
  },
  {
   "cell_type": "code",
   "execution_count": 6,
   "id": "sublime-startup",
   "metadata": {},
   "outputs": [],
   "source": [
    "# Dataset\n",
    "from torch_geometric.datasets import TUDataset\n",
    "\n",
    "dataset = TUDataset(root='/tmp/ENZYMES', name='ENZYMES')"
   ]
  },
  {
   "cell_type": "code",
   "execution_count": 7,
   "id": "southwest-satin",
   "metadata": {},
   "outputs": [
    {
     "name": "stdout",
     "output_type": "stream",
     "text": [
      "Length:   600\n",
      "Classes:  6\n",
      "Features: 3\n"
     ]
    }
   ],
   "source": [
    "# information about the dataset\n",
    "print(f'Length:   {len(dataset)}\\nClasses:  {dataset.num_classes}\\nFeatures: {dataset.num_node_features}')"
   ]
  },
  {
   "cell_type": "code",
   "execution_count": 8,
   "id": "recorded-president",
   "metadata": {},
   "outputs": [],
   "source": [
    "# shuffle the dataset\n",
    "dataset = dataset.shuffle()"
   ]
  },
  {
   "cell_type": "code",
   "execution_count": 9,
   "id": "global-witch",
   "metadata": {},
   "outputs": [],
   "source": [
    "# training and testing dataset\n",
    "train_data = dataset[:540]\n",
    "test_data  = dataset[540:]"
   ]
  },
  {
   "cell_type": "code",
   "execution_count": 10,
   "id": "sensitive-matrix",
   "metadata": {},
   "outputs": [
    {
     "name": "stdout",
     "output_type": "stream",
     "text": [
      "Batch(batch=[2037], edge_index=[2, 7888], x=[2037, 3], y=[64])\n",
      "Batch(batch=[1966], edge_index=[2, 7678], x=[1966, 3], y=[64])\n",
      "Batch(batch=[1899], edge_index=[2, 7296], x=[1899, 3], y=[64])\n",
      "Batch(batch=[2099], edge_index=[2, 8080], x=[2099, 3], y=[64])\n",
      "Batch(batch=[2038], edge_index=[2, 7844], x=[2038, 3], y=[64])\n",
      "Batch(batch=[2339], edge_index=[2, 8562], x=[2339, 3], y=[64])\n",
      "Batch(batch=[2185], edge_index=[2, 8380], x=[2185, 3], y=[64])\n",
      "Batch(batch=[2162], edge_index=[2, 8280], x=[2162, 3], y=[64])\n",
      "Batch(batch=[2157], edge_index=[2, 7810], x=[2157, 3], y=[64])\n",
      "Batch(batch=[698], edge_index=[2, 2746], x=[698, 3], y=[24])\n"
     ]
    }
   ],
   "source": [
    "# Batches\n",
    "from torch_geometric.data import DataLoader\n",
    "\n",
    "loader = DataLoader(dataset, batch_size=64, shuffle=True)\n",
    "\n",
    "for data in loader:\n",
    "    print(data)"
   ]
  },
  {
   "cell_type": "markdown",
   "id": "attractive-boost",
   "metadata": {},
   "source": [
    "### Learning Methods"
   ]
  },
  {
   "cell_type": "code",
   "execution_count": 11,
   "id": "hispanic-oxygen",
   "metadata": {},
   "outputs": [],
   "source": [
    "# dataset\n",
    "from torch_geometric.datasets import Planetoid\n",
    "\n",
    "dataset = Planetoid(root='/tmp/Cora', name='Cora')"
   ]
  },
  {
   "cell_type": "code",
   "execution_count": 12,
   "id": "meaningful-peoples",
   "metadata": {},
   "outputs": [],
   "source": [
    "# imports\n",
    "import torch\n",
    "import torch.nn.functional as F\n",
    "from torch_geometric.nn import GCNConv"
   ]
  },
  {
   "cell_type": "code",
   "execution_count": 13,
   "id": "cardiovascular-plasma",
   "metadata": {},
   "outputs": [],
   "source": [
    "# 2-layer GCN\n",
    "class Net(torch.nn.Module):\n",
    "    \n",
    "    def __init__(self):\n",
    "        super(Net, self).__init__()\n",
    "        self.conv1 = GCNConv(dataset.num_node_features, 16)\n",
    "        self.conv2 = GCNConv(16, dataset.num_classes)\n",
    "    \n",
    "    def forward(self, data):\n",
    "        x, edge_index = data.x, data.edge_index\n",
    "        \n",
    "        x = self.conv1(x, edge_index)\n",
    "        x = F.relu(x)\n",
    "        x = F.dropout(x, training=self.training)\n",
    "        x = self.conv2(x, edge_index)\n",
    "        \n",
    "        return F.log_softmax(x, dim=1)"
   ]
  },
  {
   "cell_type": "code",
   "execution_count": 14,
   "id": "transparent-fleece",
   "metadata": {},
   "outputs": [],
   "source": [
    "# create model\n",
    "device    = torch.device('cuda' if torch.cuda.is_available() else 'cpu')\n",
    "model     = Net().to(device)\n",
    "data      = dataset[0].to(device)\n",
    "optimizer = torch.optim.Adam(model.parameters(), lr=0.01, weight_decay=5e-4)"
   ]
  },
  {
   "cell_type": "code",
   "execution_count": 15,
   "id": "realistic-gossip",
   "metadata": {},
   "outputs": [],
   "source": [
    "# train model\n",
    "model.train()\n",
    "for epoch in range(200):\n",
    "    optimizer.zero_grad()\n",
    "    out = model(data)\n",
    "    loss = F.nll_loss(out[data.train_mask], data.y[data.train_mask])\n",
    "    loss.backward()\n",
    "    optimizer.step()"
   ]
  },
  {
   "cell_type": "code",
   "execution_count": 16,
   "id": "dense-identifier",
   "metadata": {},
   "outputs": [
    {
     "name": "stdout",
     "output_type": "stream",
     "text": [
      "Accuracy: 0.7860\n"
     ]
    }
   ],
   "source": [
    "# evaluate model\n",
    "model.eval()\n",
    "_, pred = model(data).max(dim=1)\n",
    "correct = int(pred[data.test_mask].eq(data.y[data.test_mask]).sum().item())\n",
    "acc = correct / int(data.test_mask.sum())\n",
    "print(f'Accuracy: {acc:.4f}')"
   ]
  },
  {
   "cell_type": "markdown",
   "id": "imperial-tanzania",
   "metadata": {},
   "source": [
    "### References"
   ]
  },
  {
   "cell_type": "markdown",
   "id": "mighty-roommate",
   "metadata": {},
   "source": [
    "[1] https://pytorch-geometric.readthedocs.io/en/latest/notes/introduction.html"
   ]
  }
 ],
 "metadata": {
  "kernelspec": {
   "display_name": "Python 3",
   "language": "python",
   "name": "python3"
  },
  "language_info": {
   "codemirror_mode": {
    "name": "ipython",
    "version": 3
   },
   "file_extension": ".py",
   "mimetype": "text/x-python",
   "name": "python",
   "nbconvert_exporter": "python",
   "pygments_lexer": "ipython3",
   "version": "3.8.5"
  }
 },
 "nbformat": 4,
 "nbformat_minor": 5
}
