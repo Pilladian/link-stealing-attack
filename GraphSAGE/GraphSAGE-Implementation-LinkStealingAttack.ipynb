{
 "cells": [
  {
   "cell_type": "markdown",
   "id": "31a098e7",
   "metadata": {},
   "source": [
    "# GraphSAGE Implementation\n",
    "> Link Stealing Attack"
   ]
  },
  {
   "cell_type": "markdown",
   "id": "a57041ae",
   "metadata": {},
   "source": [
    "#### Imports"
   ]
  },
  {
   "cell_type": "code",
   "execution_count": 1,
   "id": "bc2acde7",
   "metadata": {},
   "outputs": [
    {
     "name": "stderr",
     "output_type": "stream",
     "text": [
      "Using backend: pytorch\n"
     ]
    }
   ],
   "source": [
    "import argparse\n",
    "import time\n",
    "import numpy as np\n",
    "import networkx as nx\n",
    "import torch\n",
    "import torch.nn as nn\n",
    "import torch.nn.functional as F\n",
    "import dgl\n",
    "from dgl import DGLGraph\n",
    "from dgl.data import register_data_args, load_data\n",
    "from dgl.nn.pytorch.conv import SAGEConv\n",
    "import matplotlib.pyplot as plt"
   ]
  },
  {
   "cell_type": "markdown",
   "id": "0cd41d89",
   "metadata": {},
   "source": [
    "#### Random"
   ]
  },
  {
   "cell_type": "code",
   "execution_count": 2,
   "id": "fc5c7235",
   "metadata": {},
   "outputs": [],
   "source": [
    "import random\n",
    "random.seed(1)"
   ]
  },
  {
   "cell_type": "markdown",
   "id": "54203982",
   "metadata": {},
   "source": [
    "#### Dataset"
   ]
  },
  {
   "cell_type": "markdown",
   "id": "b679c521",
   "metadata": {},
   "source": [
    "- social network\n",
    "- nodes being people\n",
    "- connected if they know each other\n",
    "- features contain\n",
    "    - `City` they live in\n",
    "    - `Street` they live in\n",
    "    - `School` they go to\n",
    "    - `Age`\n",
    " \n"
   ]
  },
  {
   "cell_type": "code",
   "execution_count": 3,
   "id": "49be839b",
   "metadata": {},
   "outputs": [],
   "source": [
    "def generate_DGLGraph(node_amount):\n",
    "    # initialize Graph\n",
    "    G = dgl.DGLGraph()\n",
    "    \n",
    "    # Add node_amount nodes\n",
    "    G.add_nodes(node_amount)\n",
    "    G.ndata['x'] = torch.zeros((node_amount, 4), dtype=torch.int64)\n",
    "    \n",
    "    # generate features\n",
    "    for i in range(node_amount):\n",
    "        street = random.randint(0, 50)\n",
    "        city   = 0 if street < 10 else int(street / 5)\n",
    "        school = random.randint(0, 10)\n",
    "        age    = random.randint(5, 21)\n",
    "        \n",
    "        G.nodes[i].data['x'] = torch.tensor([[city, street, school, age]], dtype=torch.int64)\n",
    "        \n",
    "    # generate edges\n",
    "    pairs = []\n",
    "    src_list, dst_list = [], []\n",
    "    for i in range(node_amount):\n",
    "        for j in range(node_amount):\n",
    "            # no self loops\n",
    "            if i == j:\n",
    "                continue\n",
    "            \n",
    "            if know_each_other(G.nodes[i].data['x'], G.nodes[j].data['x']) and (i, j) not in pairs:\n",
    "                src_list.append(i)\n",
    "                src_list.append(j)\n",
    "                dst_list.append(j)\n",
    "                dst_list.append(i)\n",
    "                pairs.append((i, j))\n",
    "                pairs.append((j, i))\n",
    "                \n",
    "    G.add_edges(src_list, dst_list)\n",
    "    \n",
    "    return G"
   ]
  },
  {
   "cell_type": "code",
   "execution_count": 4,
   "id": "3cde27ab",
   "metadata": {},
   "outputs": [],
   "source": [
    "def know_each_other(x, y, threshold=0.4):\n",
    "    score = 0.0\n",
    "    \n",
    "    # City : Street : School & Age\n",
    "    score += 0.25 if x[0][0].item() == y[0][0].item() else 0.1\n",
    "    score += 0.25 if abs(x[0][1].item() - y[0][2].item()) < 4 else 0.1\n",
    "    score += 0.5 if x[0][2].item() == y[0][2].item() and abs(x[0][1].item() - y[0][2].item()) < 2 else 0.2 if x[0][2].item() == y[0][2].item() else 0.0 \n",
    "    \n",
    "    return True if score >= threshold else False"
   ]
  },
  {
   "cell_type": "markdown",
   "id": "a2e7fd40",
   "metadata": {},
   "source": [
    "#### Generate new Social Network"
   ]
  },
  {
   "cell_type": "code",
   "execution_count": 5,
   "id": "874c0469",
   "metadata": {
    "scrolled": false
   },
   "outputs": [
    {
     "name": "stderr",
     "output_type": "stream",
     "text": [
      "/home/us3r/Documents/Projekte/Bachelor-Thesis/lib/python3.8/site-packages/dgl/base.py:45: DGLWarning: Recommend creating graphs by `dgl.graph(data)` instead of `dgl.DGLGraph(data)`.\n",
      "  return warnings.warn(message, category=category, stacklevel=1)\n"
     ]
    }
   ],
   "source": [
    "AMOUNT_OF_MEMBERS = 20\n",
    "social_network_graph = generate_DGLGraph(AMOUNT_OF_MEMBERS)"
   ]
  },
  {
   "cell_type": "code",
   "execution_count": 11,
   "id": "b24c198d",
   "metadata": {},
   "outputs": [
    {
     "data": {
      "image/png": "[encoded data removed]",
      "text/plain": [
       "<Figure size 432x288 with 1 Axes>"
      ]
     },
     "metadata": {},
     "output_type": "display_data"
    }
   ],
   "source": [
    "nx_graph = social_network_graph.to_networkx().to_undirected()\n",
    "pos = nx.kamada_kawai_layout(nx_graph)\n",
    "nx.draw(nx_graph, pos, with_labels=False, node_color=[[.6, .4, .8]])"
   ]
  },
  {
   "cell_type": "code",
   "execution_count": null,
   "id": "c6fc8993",
   "metadata": {},
   "outputs": [],
   "source": []
  }
 ],
 "metadata": {
  "kernelspec": {
   "display_name": "Python 3",
   "language": "python",
   "name": "python3"
  },
  "language_info": {
   "codemirror_mode": {
    "name": "ipython",
    "version": 3
   },
   "file_extension": ".py",
   "mimetype": "text/x-python",
   "name": "python",
   "nbconvert_exporter": "python",
   "pygments_lexer": "ipython3",
   "version": "3.8.5"
  }
 },
 "nbformat": 4,
 "nbformat_minor": 5
}
