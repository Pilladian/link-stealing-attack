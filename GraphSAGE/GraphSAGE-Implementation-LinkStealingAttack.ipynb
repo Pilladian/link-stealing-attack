{
 "cells": [
  {
   "cell_type": "markdown",
   "id": "31a098e7",
   "metadata": {},
   "source": [
    "# GraphSAGE Implementation\n",
    "> Link Stealing Attack"
   ]
  },
  {
   "cell_type": "code",
   "execution_count": 1,
   "id": "bc2acde7",
   "metadata": {},
   "outputs": [
    {
     "name": "stderr",
     "output_type": "stream",
     "text": [
      "Using backend: pytorch\n"
     ]
    }
   ],
   "source": [
    "# Imports\n",
    "import argparse\n",
    "import time\n",
    "import numpy as np\n",
    "import networkx as nx\n",
    "import torch\n",
    "import torch.nn as nn\n",
    "import torch.nn.functional as F\n",
    "import dgl\n",
    "from dgl import DGLGraph\n",
    "from dgl.data import register_data_args, load_data\n",
    "from dgl.nn.pytorch.conv import SAGEConv"
   ]
  },
  {
   "cell_type": "code",
   "execution_count": null,
   "id": "7dbd3917",
   "metadata": {},
   "outputs": [],
   "source": [
    "# Dataset\n"
   ]
  }
 ],
 "metadata": {
  "kernelspec": {
   "display_name": "Python 3",
   "language": "python",
   "name": "python3"
  },
  "language_info": {
   "codemirror_mode": {
    "name": "ipython",
    "version": 3
   },
   "file_extension": ".py",
   "mimetype": "text/x-python",
   "name": "python",
   "nbconvert_exporter": "python",
   "pygments_lexer": "ipython3",
   "version": "3.8.5"
  }
 },
 "nbformat": 4,
 "nbformat_minor": 5
}
