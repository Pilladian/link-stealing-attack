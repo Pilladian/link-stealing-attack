{
 "cells": [
  {
   "cell_type": "code",
   "execution_count": 1,
   "id": "exceptional-property",
   "metadata": {},
   "outputs": [
    {
     "name": "stderr",
     "output_type": "stream",
     "text": [
      "Using backend: pytorch\n"
     ]
    }
   ],
   "source": [
    "import dgl\n",
    "import numpy\n",
    "import torch\n",
    "import networkx as nx\n",
    "import itertools\n",
    "import torch.nn as nn\n",
    "import torch.nn.functional as F\n",
    "from dgl.nn.pytorch import GraphConv\n",
    "import matplotlib.animation as animation\n",
    "import matplotlib.pyplot as plt"
   ]
  },
  {
   "cell_type": "code",
   "execution_count": 2,
   "id": "aquatic-member",
   "metadata": {},
   "outputs": [],
   "source": [
    "def build_graph():\n",
    "    # source\n",
    "    src = numpy.array([1, 1, 1, 2])\n",
    "    \n",
    "    # destination\n",
    "    dst = numpy.array([2, 0, 4, 3])\n",
    "\n",
    "    # edges:\n",
    "    # default -> directional\n",
    "    # make them bi-directional\n",
    "    u = numpy.concatenate([src, dst])\n",
    "    v = numpy.concatenate([dst, src])\n",
    "    \n",
    "    # create a graph object\n",
    "    return dgl.graph((u, v))"
   ]
  },
  {
   "cell_type": "code",
   "execution_count": 3,
   "id": "aggressive-mozambique",
   "metadata": {},
   "outputs": [
    {
     "name": "stdout",
     "output_type": "stream",
     "text": [
      "Nodes: 5\n",
      "Edges: 8\n"
     ]
    }
   ],
   "source": [
    "# print information\n",
    "graph = build_graph()\n",
    "print(f'Nodes: {graph.number_of_nodes()}')\n",
    "print(f'Edges: {graph.number_of_edges()}')"
   ]
  },
  {
   "cell_type": "code",
   "execution_count": 4,
   "id": "foster-viking",
   "metadata": {},
   "outputs": [
    {
     "data": {
      "image/png": "[encoded data removed]",
      "text/plain": [
       "<Figure size 432x288 with 1 Axes>"
      ]
     },
     "metadata": {},
     "output_type": "display_data"
    }
   ],
   "source": [
    "# visualize the graph\n",
    "nx_graph = graph.to_networkx().to_undirected()\n",
    "pos = nx.kamada_kawai_layout(nx_graph)\n",
    "nx.draw(nx_graph, pos, with_labels=True, node_color=[[.7, 1, .7]])"
   ]
  },
  {
   "cell_type": "code",
   "execution_count": 5,
   "id": "nonprofit-shape",
   "metadata": {},
   "outputs": [],
   "source": [
    "# assign features to node\n",
    "embeddings = nn.Embedding(5, 5)\n",
    "graph.ndata['feat'] = embeddings.weight"
   ]
  },
  {
   "cell_type": "code",
   "execution_count": 6,
   "id": "meaning-command",
   "metadata": {},
   "outputs": [
    {
     "data": {
      "text/plain": [
       "{'feat': Parameter containing:\n",
       "tensor([[ 1.5376,  1.4223,  0.4889,  0.2984,  1.9836],\n",
       "        [-1.5045, -1.0873,  0.8967, -1.3912,  0.5421],\n",
       "        [-1.2115,  0.2032,  0.8320, -1.4135,  0.8375],\n",
       "        [ 1.4693,  1.8105,  0.9151, -1.9801,  0.4434],\n",
       "        [ 1.0603,  1.0188, -1.3450,  0.5283,  0.1358]], requires_grad=True)}"
      ]
     },
     "execution_count": 6,
     "metadata": {},
     "output_type": "execute_result"
    }
   ],
   "source": [
    "graph.ndata"
   ]
  },
  {
   "cell_type": "code",
   "execution_count": 7,
   "id": "neither-indianapolis",
   "metadata": {},
   "outputs": [],
   "source": [
    "# define graph convolutional network\n",
    "class GCN(nn.Module):\n",
    "    \n",
    "    def __init__(self, in_features, hidden_size, num_classes):\n",
    "        super(GCN, self).__init__()\n",
    "        self.conv1 = GraphConv(in_features, hidden_size)\n",
    "        self.conv2 = GraphConv(hidden_size, num_classes)\n",
    "    \n",
    "    def forward(self, g, inputs):\n",
    "        h = self.conv1(g, inputs)\n",
    "        h = torch.relu(h)\n",
    "        h = self.conv2(g, h)\n",
    "        return h"
   ]
  },
  {
   "cell_type": "code",
   "execution_count": 8,
   "id": "pleasant-enforcement",
   "metadata": {},
   "outputs": [],
   "source": [
    "# create model\n",
    "network = GCN(5, 3, 2)"
   ]
  },
  {
   "cell_type": "code",
   "execution_count": 9,
   "id": "neutral-jesus",
   "metadata": {},
   "outputs": [],
   "source": [
    "# preparation and initialization\n",
    "inputs = embeddings.weight\n",
    "labeled_nodes = torch.tensor([0, 3])\n",
    "labels = torch.tensor([0, 1])"
   ]
  },
  {
   "cell_type": "code",
   "execution_count": 26,
   "id": "spread-silence",
   "metadata": {},
   "outputs": [
    {
     "name": "stdout",
     "output_type": "stream",
     "text": [
      "tensor([[ 2.3066, -1.3436],\n",
      "        [-0.8947,  0.0951],\n",
      "        [ 1.4600, -0.7790],\n",
      "        [-0.5841,  0.5841],\n",
      "        [ 2.3066, -1.3436]], grad_fn=<AddBackward0>)\n",
      "tensor([[-0.0257, -3.6759],\n",
      "        [-1.3058, -0.3160],\n",
      "        [-0.1013, -2.3402],\n",
      "        [-1.4389, -0.2708],\n",
      "        [-0.0257, -3.6759]], grad_fn=<LogSoftmaxBackward>)\n",
      "tensor([[-0.0257, -3.6759],\n",
      "        [-1.4389, -0.2708]], grad_fn=<IndexBackward>)\n",
      "tensor([0, 1])\n",
      "tensor(0.1482, grad_fn=<NllLossBackward>)\n",
      "Epoch   0 | Loss: 0.1482\n"
     ]
    }
   ],
   "source": [
    "# training\n",
    "optimizer = torch.optim.Adam(itertools.chain(network.parameters(), embeddings.parameters()), lr=0.01)\n",
    "all_logits = []\n",
    "\n",
    "for epoch in range(1):\n",
    "    logits = network(graph, inputs)\n",
    "    all_logits.append(logits.detach())\n",
    "    logp = F.log_softmax(logits, 1)\n",
    "    print(logits)\n",
    "    print(logp)\n",
    "    print(logp[labeled_nodes])\n",
    "    print(labels)\n",
    "    loss = F.nll_loss(logp[labeled_nodes], labels)\n",
    "    print(loss)\n",
    "    optimizer.zero_grad()\n",
    "    loss.backward()\n",
    "    optimizer.step()\n",
    "    \n",
    "    print(f'Epoch {epoch:3.0f} | Loss: {loss:.4f}')"
   ]
  },
  {
   "cell_type": "code",
   "execution_count": 22,
   "id": "radical-french",
   "metadata": {},
   "outputs": [
    {
     "data": {
      "image/png": "[encoded data removed]",
      "text/plain": [
       "<Figure size 900x600 with 1 Axes>"
      ]
     },
     "metadata": {},
     "output_type": "display_data"
    }
   ],
   "source": [
    "# visualization\n",
    "def draw(i):\n",
    "    cls1color = '#00FFFF'\n",
    "    cls2color = '#FF00FF'\n",
    "    \n",
    "    pos = nx.kamada_kawai_layout(nx_graph)\n",
    "    colors = []\n",
    "    \n",
    "    for v in range(5):\n",
    "        # pos[v] = all_logits[i][v].numpy()\n",
    "        cls = pos[v].argmax()\n",
    "        colors.append(cls1color if cls else cls2color)\n",
    "        \n",
    "    ax.cla()\n",
    "    ax.axis('off')\n",
    "    ax.set_title(f'Epoch: {i}')\n",
    "    nx.draw_networkx(nx_graph.to_undirected(), pos, node_color=colors, with_labels=True, node_size=300, ax=ax)\n",
    "\n",
    "nx_graph = graph.to_networkx().to_undirected()\n",
    "fig = plt.figure(dpi=150)\n",
    "fig.clf()\n",
    "ax = fig.subplots()\n",
    "draw(0)\n",
    "# plt.close()"
   ]
  },
  {
   "cell_type": "code",
   "execution_count": 12,
   "id": "entertaining-toyota",
   "metadata": {},
   "outputs": [],
   "source": [
    "ani = animation.FuncAnimation(fig, draw, frames=len(all_logits), interval=200)\n",
    "ani.save('animation.mp4', writer = 'ffmpeg', fps = 60)  "
   ]
  },
  {
   "cell_type": "code",
   "execution_count": null,
   "id": "useful-chester",
   "metadata": {},
   "outputs": [],
   "source": []
  }
 ],
 "metadata": {
  "kernelspec": {
   "display_name": "Python 3",
   "language": "python",
   "name": "python3"
  },
  "language_info": {
   "codemirror_mode": {
    "name": "ipython",
    "version": 3
   },
   "file_extension": ".py",
   "mimetype": "text/x-python",
   "name": "python",
   "nbconvert_exporter": "python",
   "pygments_lexer": "ipython3",
   "version": "3.8.5"
  }
 },
 "nbformat": 4,
 "nbformat_minor": 5
}
